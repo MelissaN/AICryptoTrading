{
 "cells": [
  {
   "cell_type": "code",
   "execution_count": null,
   "metadata": {},
   "outputs": [],
   "source": [
    "from config import CONFIG\n",
    "from utils import series_to_supervised\n",
    "\n",
    "CONFIG"
   ]
  },
  {
   "cell_type": "code",
   "execution_count": null,
   "metadata": {},
   "outputs": [],
   "source": [
    "import numpy as np\n",
    "import pandas as pd\n",
    "from sklearn.preprocessing import MinMaxScaler\n",
    "from pandas import read_csv\n",
    "from pandas import DataFrame\n",
    "from pandas import concat\n",
    "from matplotlib import pyplot\n",
    " \n",
    "#data file path\n",
    "dfp = ''.join([CONFIG['folder']['data'], CONFIG['csv_src_file'], '.csv'])\n",
    "\n",
    "#Columns of price data to use\n",
    "columns = CONFIG['columns']\n",
    "# df = pd.read_csv(dfp).dropna().tail(1000000)\n",
    "dataset = pd.read_csv(dfp)\n",
    "\n",
    "# to drop values before 2018 1514764800, March 2018 1519862400, July 2017 1498867200\n",
    "dataset = dataset[dataset.Timestamp > 1498867200]\n",
    "dataset.head()"
   ]
  },
  {
   "cell_type": "code",
   "execution_count": null,
   "metadata": {},
   "outputs": [],
   "source": [
    "values = dataset.loc[:,columns].values"
   ]
  },
  {
   "cell_type": "code",
   "execution_count": null,
   "metadata": {},
   "outputs": [],
   "source": [
    "# parameters to prepare the dataset for learning \n",
    "n_lag = CONFIG['input_size']\n",
    "n_out = CONFIG['output_size']\n",
    "n_features = len(columns)\n",
    "n_lag,n_features,n_out"
   ]
  },
  {
   "cell_type": "code",
   "execution_count": null,
   "metadata": {},
   "outputs": [],
   "source": [
    "# scale dataset\n",
    "scaler = MinMaxScaler(feature_range=(0, 1))\n",
    "scaled = scaler.fit_transform(values)"
   ]
  },
  {
   "cell_type": "code",
   "execution_count": null,
   "metadata": {},
   "outputs": [],
   "source": [
    "# frame as supervised learning\n",
    "reframed = series_to_supervised(scaled, n_lag, n_out)\n",
    "reframed.head(10)"
   ]
  },
  {
   "cell_type": "code",
   "execution_count": null,
   "metadata": {},
   "outputs": [],
   "source": [
    "# drop columns we don't want to predict\n",
    "# We're only concerned with the estimating the close value,\n",
    "# Close should be first in the list of column in the config file\n",
    "\n",
    "cols_to_drop = []\n",
    "\n",
    "for i in range (n_out):\n",
    "    for j in range(1, n_features):\n",
    "        cols_to_drop.append(reframed.shape[1]-(i*n_features+j))\n",
    "\n",
    "reframed.drop(reframed.columns[cols_to_drop], axis=1, inplace=True)\n",
    "\n",
    "reframed.head()"
   ]
  },
  {
   "cell_type": "code",
   "execution_count": null,
   "metadata": {},
   "outputs": [],
   "source": [
    "reframed_values = reframed.values\n",
    "# split into train and test sets\n",
    "training_size = int(0.8* reframed_values.shape[0])\n",
    "train = reframed_values[:training_size, :]\n",
    "test = reframed_values[training_size:, :]"
   ]
  },
  {
   "cell_type": "code",
   "execution_count": null,
   "metadata": {},
   "outputs": [],
   "source": [
    "# split into input and outputs\n",
    "n_obs = n_lag * n_features\n",
    "\n",
    "# We're only concerned with the estimating the close value,\n",
    "# Close should be first in the list of column in the config file\n",
    "\n",
    "n_outputs = n_out * n_features\n",
    "train_x, train_y = train[:, :n_obs], train[:, -n_out:]\n",
    "test_x, test_y = test[:, :n_obs], test[:, -n_out:]\n",
    "\n",
    "# reshape input to be 3D [samples, timesteps, features]\n",
    "train_x = train_x.reshape((train_x.shape[0], n_lag, n_features))\n",
    "test_x = test_x.reshape((test_x.shape[0], n_lag, n_features))\n",
    "\n",
    "# reshape output to be 3D [samples, timesteps, features]\n",
    "train_y = train_y.reshape(-1, n_out, 1)\n",
    "test_y = test_y.reshape(-1, n_out, 1)\n",
    "\n",
    "print(train_x.shape, train_y.shape, test_x.shape, test_y.shape)"
   ]
  },
  {
   "cell_type": "code",
   "execution_count": null,
   "metadata": {},
   "outputs": [],
   "source": [
    "model_name=''.join([CONFIG['folder']['weights'], CONFIG['filename'], '_model', '.json'])\n",
    "model_weights_name=''.join([CONFIG['folder']['weights'], CONFIG['filename'], '_model_weights', '.h5'])"
   ]
  },
  {
   "cell_type": "code",
   "execution_count": null,
   "metadata": {},
   "outputs": [],
   "source": [
    "from keras.models import Sequential\n",
    "from keras.layers import Dense\n",
    "from keras.layers import Input\n",
    "from keras.layers import LSTM, CuDNNLSTM, GRU,CuDNNGRU\n",
    "from keras.layers import Conv1D, AveragePooling1D, MaxPooling1D\n",
    "from keras.layers import Dropout, Flatten\n",
    "from keras.layers import Activation, BatchNormalization\n",
    "from keras.layers import TimeDistributed\n",
    "from keras.layers import Bidirectional\n",
    "from keras.layers import RepeatVector\n",
    "from keras.callbacks import ModelCheckpoint\n",
    "\n",
    "units= CONFIG['lstm_hidden_size']\n",
    "dropout = .5\n",
    "\n",
    "# design network\n",
    "model = Sequential()\n",
    "model.add(Bidirectional(LSTM(units), input_shape=(train_x.shape[1], train_x.shape[2])))\n",
    "model.add(Dropout(dropout))\n",
    "\n",
    "model.add(RepeatVector(n_out))\n",
    "\n",
    "model.add(LSTM(units/2, return_sequences=True))\n",
    "model.add(Dropout(dropout))\n",
    "\n",
    "# We're only concerned with the estimating the close value,\n",
    "# otherwise use n_outputs instead of 1\n",
    "# Dense(n_outputs, ...\n",
    "model.add(TimeDistributed(Dense(1, activation='relu')))\n",
    "\n",
    "model.compile(loss='mse', optimizer='adam')\n",
    "\n",
    "# store model\n",
    "# serialize model to JSON\n",
    "model_json = model.to_json()\n",
    "with open(model_name, \"w\") as json_file:\n",
    "    json_file.write(model_json)\n",
    "\n",
    "model.summary()"
   ]
  },
  {
   "cell_type": "code",
   "execution_count": null,
   "metadata": {},
   "outputs": [],
   "source": [
    "epochs=10\n",
    "batch_size=64"
   ]
  },
  {
   "cell_type": "code",
   "execution_count": null,
   "metadata": {},
   "outputs": [],
   "source": [
    "# fit network\n",
    "history = model.fit(train_x, train_y, epochs=epochs, batch_size=batch_size,\n",
    "                    validation_data=(test_x, test_y), verbose=1, shuffle=False,\n",
    "                    callbacks=[ModelCheckpoint(model_weights_name, monitor='val_loss', verbose=1,save_best_only='true',\n",
    "                                              save_weights_only=True)])"
   ]
  },
  {
   "cell_type": "code",
   "execution_count": null,
   "metadata": {},
   "outputs": [],
   "source": [
    "# Load the best weights\n",
    "model.load_weights(model_weights_name)\n",
    "model.compile(loss='mse', optimizer='adam')\n",
    "model.evaluate(test_x, test_y)"
   ]
  },
  {
   "cell_type": "code",
   "execution_count": null,
   "metadata": {},
   "outputs": [],
   "source": [
    "from matplotlib import pyplot"
   ]
  },
  {
   "cell_type": "code",
   "execution_count": null,
   "metadata": {},
   "outputs": [],
   "source": [
    "# plot history\n",
    "pyplot.plot(history.history['loss'], label='train')\n",
    "pyplot.plot(history.history['val_loss'], label='test')\n",
    "pyplot.legend()\n",
    "pyplot.show()"
   ]
  },
  {
   "cell_type": "code",
   "execution_count": null,
   "metadata": {},
   "outputs": [],
   "source": [
    "# Test the prediction of test data\n",
    "y = model.predict(test_x)"
   ]
  },
  {
   "cell_type": "code",
   "execution_count": null,
   "metadata": {},
   "outputs": [],
   "source": [
    "a = test_y[:,0]\n",
    "b = y[:,0]\n",
    "c = np.append(b, y[-1], axis=0)\n",
    "\n",
    "# Show how the model fits the test data\n",
    "pyplot.plot(a[:100], label='original')\n",
    "pyplot.plot(b[:100], label='model')\n",
    "pyplot.legend()\n",
    "pyplot.show()\n",
    "\n",
    "# Show how the model predicts data\n",
    "pos = int(a.shape[0]-n_out*4)\n",
    "pyplot.plot(a[pos:], label='original')\n",
    "pyplot.plot(c[pos:], label='model')\n",
    "pyplot.legend()\n",
    "pyplot.show()\n"
   ]
  },
  {
   "cell_type": "code",
   "execution_count": null,
   "metadata": {},
   "outputs": [],
   "source": [
    "#Prediction on public data!\n",
    "period = CONFIG['period']\n",
    "import time\n",
    "import urllib2\n",
    "import json\n",
    "\n",
    "# Download a live bitcoin price data set\n",
    "def dl_X(now = None, points = n_lag, period = period, pair=CONFIG['pair']):\n",
    "    if now == None:\n",
    "        now = time.time() \n",
    "    end = now - now % period\n",
    "    #print end, time.strftime(\"%a, %d %b %Y %H:%M:%S +0000\", time.gmtime(end))\n",
    "    start = end - points*period\n",
    "    #print start, time.strftime(\"%a, %d %b %Y %H:%M:%S +0000\", time.gmtime(start))\n",
    "    url = \"https://poloniex.com/public?command=returnChartData&currencyPair=%s&start=%d&end=%d&period=%d\" % (pair, start, end, period)\n",
    "    openUrl = urllib2.urlopen(url)\n",
    "    r = openUrl.read()\n",
    "    openUrl.close()\n",
    "    d = json.loads(r.decode())[-n_lag:]\n",
    "    df = pd.DataFrame(d)\n",
    "    original_columns=[u'close', u'date', u'high', u'low', u'open',u'volume']\n",
    "    new_columns = ['Close','Timestamp','High','Low','Open','Volume']\n",
    "    df = df.loc[:,original_columns]\n",
    "    df.columns = new_columns\n",
    "    \n",
    "    return df"
   ]
  },
  {
   "cell_type": "code",
   "execution_count": null,
   "metadata": {},
   "outputs": [],
   "source": [
    "def predict(when=None):\n",
    "    rt_df = dl_X(when)\n",
    "    rt_values = rt_df.loc[:,columns].values\n",
    "    rt_scaled = scaler.transform(rt_values)\n",
    "    rt_x = rt_scaled.reshape((1, n_lag, n_features))\n",
    "    print rt_x.shape\n",
    "    return rt_scaled, model.predict(rt_x)"
   ]
  },
  {
   "cell_type": "code",
   "execution_count": null,
   "metadata": {},
   "outputs": [],
   "source": [
    "# do some now & past predictions\n",
    "for t in [0, 100, 200, 300, 500, 1000, 2000]:\n",
    "    rt_x, prediction = predict(time.time()-t*period)\n",
    "\n",
    "    current = rt_x[:,0]\n",
    "    prediction = prediction[0]\n",
    "\n",
    "    pyplot.plot(current, label='current')\n",
    "\n",
    "    # shift train predictions for plotting\n",
    "    predictPlot = np.empty_like(current)\n",
    "    predictPlot[:] = np.nan\n",
    "    predictPlot = np.append(predictPlot, prediction)\n",
    "\n",
    "    pyplot.plot(predictPlot, label='prediction')\n",
    "    pyplot.legend()\n",
    "    pyplot.show()"
   ]
  },
  {
   "cell_type": "code",
   "execution_count": null,
   "metadata": {},
   "outputs": [],
   "source": [
    "#Prediction on live data!\n",
    "starttime=time.time()\n",
    "while True:\n",
    "    now = time.time() \n",
    "    end = now - now % period\n",
    "    print time.strftime(\"%a, %d %b %Y %H:%M:%S +0000\", time.gmtime(end))\n",
    "    rt_x, prediction = predict()\n",
    "\n",
    "    current = rt_x[:,0]\n",
    "    prediction = prediction[0]\n",
    "\n",
    "    pyplot.plot(current, label='current')\n",
    "\n",
    "    # shift train predictions for plotting\n",
    "    predictPlot = np.empty_like(current)\n",
    "    predictPlot[:] = np.nan\n",
    "    predictPlot = np.append(predictPlot, prediction)\n",
    "\n",
    "    pyplot.plot(predictPlot, label='prediction')\n",
    "    pyplot.legend()\n",
    "    pyplot.show()\n",
    "\n",
    "    time.sleep(period - ((time.time() - starttime) % period))"
   ]
  },
  {
   "cell_type": "code",
   "execution_count": null,
   "metadata": {},
   "outputs": [],
   "source": []
  },
  {
   "cell_type": "code",
   "execution_count": null,
   "metadata": {},
   "outputs": [],
   "source": []
  },
  {
   "cell_type": "code",
   "execution_count": null,
   "metadata": {},
   "outputs": [],
   "source": []
  },
  {
   "cell_type": "code",
   "execution_count": null,
   "metadata": {},
   "outputs": [],
   "source": []
  }
 ],
 "metadata": {
  "kernelspec": {
   "display_name": "Python 2",
   "language": "python",
   "name": "python2"
  },
  "language_info": {
   "codemirror_mode": {
    "name": "ipython",
    "version": 2
   },
   "file_extension": ".py",
   "mimetype": "text/x-python",
   "name": "python",
   "nbconvert_exporter": "python",
   "pygments_lexer": "ipython2",
   "version": "2.7.12"
  }
 },
 "nbformat": 4,
 "nbformat_minor": 2
}
