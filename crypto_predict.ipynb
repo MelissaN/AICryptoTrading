{
 "cells": [
  {
   "cell_type": "code",
   "execution_count": 1,
   "metadata": {},
   "outputs": [
    {
     "data": {
      "text/plain": [
       "{'pair': 'BTC_ETH',\n",
       " 'period': 300,\n",
       " 'input_size': 120,\n",
       " 'output_size': 10,\n",
       " 'lstm_hidden_size': 200,\n",
       " 'columns': ['Close', 'Volume', 'Low', 'High'],\n",
       " 'csv_src_file': 'BTC_ETH',\n",
       " 'name': 'lstm',\n",
       " 'folder': {'data': 'data/', 'weights': 'weights/'},\n",
       " 'filename': 'BTC_ETH_lstm_i120_o10_Close_Volume_Low_High'}"
      ]
     },
     "execution_count": 1,
     "metadata": {},
     "output_type": "execute_result"
    }
   ],
   "source": [
    "from config import CONFIG\n",
    "from utils import series_to_supervised\n",
    "\n",
    "CONFIG"
   ]
  },
  {
   "cell_type": "code",
   "execution_count": 2,
   "metadata": {},
   "outputs": [
    {
     "data": {
      "text/html": [
       "<div>\n",
       "<style scoped>\n",
       "    .dataframe tbody tr th:only-of-type {\n",
       "        vertical-align: middle;\n",
       "    }\n",
       "\n",
       "    .dataframe tbody tr th {\n",
       "        vertical-align: top;\n",
       "    }\n",
       "\n",
       "    .dataframe thead th {\n",
       "        text-align: right;\n",
       "    }\n",
       "</style>\n",
       "<table border=\"1\" class=\"dataframe\">\n",
       "  <thead>\n",
       "    <tr style=\"text-align: right;\">\n",
       "      <th></th>\n",
       "      <th>Close</th>\n",
       "      <th>Timestamp</th>\n",
       "      <th>High</th>\n",
       "      <th>Low</th>\n",
       "      <th>Open</th>\n",
       "      <th>Volume</th>\n",
       "    </tr>\n",
       "  </thead>\n",
       "  <tbody>\n",
       "    <tr>\n",
       "      <th>147395</th>\n",
       "      <td>0.008400</td>\n",
       "      <td>1483229100</td>\n",
       "      <td>0.008412</td>\n",
       "      <td>0.008373</td>\n",
       "      <td>0.008379</td>\n",
       "      <td>23.101541</td>\n",
       "    </tr>\n",
       "    <tr>\n",
       "      <th>147396</th>\n",
       "      <td>0.008450</td>\n",
       "      <td>1483229400</td>\n",
       "      <td>0.008463</td>\n",
       "      <td>0.008388</td>\n",
       "      <td>0.008400</td>\n",
       "      <td>42.334102</td>\n",
       "    </tr>\n",
       "    <tr>\n",
       "      <th>147397</th>\n",
       "      <td>0.008511</td>\n",
       "      <td>1483229700</td>\n",
       "      <td>0.008511</td>\n",
       "      <td>0.008444</td>\n",
       "      <td>0.008460</td>\n",
       "      <td>70.720062</td>\n",
       "    </tr>\n",
       "    <tr>\n",
       "      <th>147398</th>\n",
       "      <td>0.008522</td>\n",
       "      <td>1483230000</td>\n",
       "      <td>0.008522</td>\n",
       "      <td>0.008511</td>\n",
       "      <td>0.008511</td>\n",
       "      <td>7.221969</td>\n",
       "    </tr>\n",
       "    <tr>\n",
       "      <th>147399</th>\n",
       "      <td>0.008530</td>\n",
       "      <td>1483230300</td>\n",
       "      <td>0.008530</td>\n",
       "      <td>0.008522</td>\n",
       "      <td>0.008522</td>\n",
       "      <td>20.965740</td>\n",
       "    </tr>\n",
       "  </tbody>\n",
       "</table>\n",
       "</div>"
      ],
      "text/plain": [
       "           Close   Timestamp      High       Low      Open     Volume\n",
       "147395  0.008400  1483229100  0.008412  0.008373  0.008379  23.101541\n",
       "147396  0.008450  1483229400  0.008463  0.008388  0.008400  42.334102\n",
       "147397  0.008511  1483229700  0.008511  0.008444  0.008460  70.720062\n",
       "147398  0.008522  1483230000  0.008522  0.008511  0.008511   7.221969\n",
       "147399  0.008530  1483230300  0.008530  0.008522  0.008522  20.965740"
      ]
     },
     "execution_count": 2,
     "metadata": {},
     "output_type": "execute_result"
    }
   ],
   "source": [
    "import numpy as np\n",
    "import pandas as pd\n",
    "from sklearn.preprocessing import MinMaxScaler\n",
    "from pandas import read_csv\n",
    "from pandas import DataFrame\n",
    "from pandas import concat\n",
    "from matplotlib import pyplot\n",
    " \n",
    "#data file path\n",
    "dfp = ''.join([CONFIG['folder']['data'], CONFIG['csv_src_file'], '.csv'])\n",
    "\n",
    "#Columns of price data to use\n",
    "columns = CONFIG['columns']\n",
    "# df = pd.read_csv(dfp).dropna().tail(1000000)\n",
    "dataset = pd.read_csv(dfp)\n",
    "\n",
    "# to drop values before 2018 1514764800, March 2018 1519862400, July 2017 1498867200\n",
    "dataset = dataset[dataset.Timestamp > 1483228800]\n",
    "dataset.head()"
   ]
  },
  {
   "cell_type": "code",
   "execution_count": 3,
   "metadata": {},
   "outputs": [],
   "source": [
    "values = dataset.loc[:,columns].values"
   ]
  },
  {
   "cell_type": "code",
   "execution_count": 4,
   "metadata": {},
   "outputs": [
    {
     "data": {
      "text/plain": [
       "(120, 4, 10)"
      ]
     },
     "execution_count": 4,
     "metadata": {},
     "output_type": "execute_result"
    }
   ],
   "source": [
    "# parameters to prepare the dataset for learning \n",
    "n_lag = CONFIG['input_size']\n",
    "n_out = CONFIG['output_size']\n",
    "n_features = len(columns)\n",
    "n_lag,n_features,n_out"
   ]
  },
  {
   "cell_type": "code",
   "execution_count": 5,
   "metadata": {},
   "outputs": [],
   "source": [
    "# scale dataset\n",
    "scaler = MinMaxScaler(feature_range=(0, 1))\n",
    "scaled = scaler.fit_transform(values)"
   ]
  },
  {
   "cell_type": "code",
   "execution_count": 6,
   "metadata": {},
   "outputs": [
    {
     "data": {
      "text/html": [
       "<div>\n",
       "<style scoped>\n",
       "    .dataframe tbody tr th:only-of-type {\n",
       "        vertical-align: middle;\n",
       "    }\n",
       "\n",
       "    .dataframe tbody tr th {\n",
       "        vertical-align: top;\n",
       "    }\n",
       "\n",
       "    .dataframe thead th {\n",
       "        text-align: right;\n",
       "    }\n",
       "</style>\n",
       "<table border=\"1\" class=\"dataframe\">\n",
       "  <thead>\n",
       "    <tr style=\"text-align: right;\">\n",
       "      <th></th>\n",
       "      <th>var1(t-120)</th>\n",
       "      <th>var2(t-120)</th>\n",
       "      <th>var3(t-120)</th>\n",
       "      <th>var4(t-120)</th>\n",
       "      <th>var1(t-119)</th>\n",
       "      <th>var2(t-119)</th>\n",
       "      <th>var3(t-119)</th>\n",
       "      <th>var4(t-119)</th>\n",
       "      <th>var1(t-118)</th>\n",
       "      <th>var2(t-118)</th>\n",
       "      <th>...</th>\n",
       "      <th>var3(t+7)</th>\n",
       "      <th>var4(t+7)</th>\n",
       "      <th>var1(t+8)</th>\n",
       "      <th>var2(t+8)</th>\n",
       "      <th>var3(t+8)</th>\n",
       "      <th>var4(t+8)</th>\n",
       "      <th>var1(t+9)</th>\n",
       "      <th>var2(t+9)</th>\n",
       "      <th>var3(t+9)</th>\n",
       "      <th>var4(t+9)</th>\n",
       "    </tr>\n",
       "  </thead>\n",
       "  <tbody>\n",
       "    <tr>\n",
       "      <th>120</th>\n",
       "      <td>0.003928</td>\n",
       "      <td>0.003895</td>\n",
       "      <td>0.003878</td>\n",
       "      <td>0.003777</td>\n",
       "      <td>0.004276</td>\n",
       "      <td>0.007137</td>\n",
       "      <td>0.003985</td>\n",
       "      <td>0.004123</td>\n",
       "      <td>0.004701</td>\n",
       "      <td>0.011923</td>\n",
       "      <td>...</td>\n",
       "      <td>0.003703</td>\n",
       "      <td>0.003739</td>\n",
       "      <td>0.003733</td>\n",
       "      <td>0.001932</td>\n",
       "      <td>0.003760</td>\n",
       "      <td>0.003511</td>\n",
       "      <td>0.004033</td>\n",
       "      <td>0.005065</td>\n",
       "      <td>0.003857</td>\n",
       "      <td>0.003796</td>\n",
       "    </tr>\n",
       "    <tr>\n",
       "      <th>121</th>\n",
       "      <td>0.004276</td>\n",
       "      <td>0.007137</td>\n",
       "      <td>0.003985</td>\n",
       "      <td>0.004123</td>\n",
       "      <td>0.004701</td>\n",
       "      <td>0.011923</td>\n",
       "      <td>0.004377</td>\n",
       "      <td>0.004457</td>\n",
       "      <td>0.004778</td>\n",
       "      <td>0.001218</td>\n",
       "      <td>...</td>\n",
       "      <td>0.003760</td>\n",
       "      <td>0.003511</td>\n",
       "      <td>0.004033</td>\n",
       "      <td>0.005065</td>\n",
       "      <td>0.003857</td>\n",
       "      <td>0.003796</td>\n",
       "      <td>0.004130</td>\n",
       "      <td>0.012079</td>\n",
       "      <td>0.004118</td>\n",
       "      <td>0.004100</td>\n",
       "    </tr>\n",
       "    <tr>\n",
       "      <th>122</th>\n",
       "      <td>0.004701</td>\n",
       "      <td>0.011923</td>\n",
       "      <td>0.004377</td>\n",
       "      <td>0.004457</td>\n",
       "      <td>0.004778</td>\n",
       "      <td>0.001218</td>\n",
       "      <td>0.004852</td>\n",
       "      <td>0.004532</td>\n",
       "      <td>0.004832</td>\n",
       "      <td>0.003535</td>\n",
       "      <td>...</td>\n",
       "      <td>0.003857</td>\n",
       "      <td>0.003796</td>\n",
       "      <td>0.004130</td>\n",
       "      <td>0.012079</td>\n",
       "      <td>0.004118</td>\n",
       "      <td>0.004100</td>\n",
       "      <td>0.003907</td>\n",
       "      <td>0.004797</td>\n",
       "      <td>0.003906</td>\n",
       "      <td>0.003963</td>\n",
       "    </tr>\n",
       "    <tr>\n",
       "      <th>123</th>\n",
       "      <td>0.004778</td>\n",
       "      <td>0.001218</td>\n",
       "      <td>0.004852</td>\n",
       "      <td>0.004532</td>\n",
       "      <td>0.004832</td>\n",
       "      <td>0.003535</td>\n",
       "      <td>0.004929</td>\n",
       "      <td>0.004587</td>\n",
       "      <td>0.004832</td>\n",
       "      <td>0.002484</td>\n",
       "      <td>...</td>\n",
       "      <td>0.004118</td>\n",
       "      <td>0.004100</td>\n",
       "      <td>0.003907</td>\n",
       "      <td>0.004797</td>\n",
       "      <td>0.003906</td>\n",
       "      <td>0.003963</td>\n",
       "      <td>0.003824</td>\n",
       "      <td>0.000297</td>\n",
       "      <td>0.003942</td>\n",
       "      <td>0.003691</td>\n",
       "    </tr>\n",
       "    <tr>\n",
       "      <th>124</th>\n",
       "      <td>0.004832</td>\n",
       "      <td>0.003535</td>\n",
       "      <td>0.004929</td>\n",
       "      <td>0.004587</td>\n",
       "      <td>0.004832</td>\n",
       "      <td>0.002484</td>\n",
       "      <td>0.004762</td>\n",
       "      <td>0.004587</td>\n",
       "      <td>0.004833</td>\n",
       "      <td>0.000836</td>\n",
       "      <td>...</td>\n",
       "      <td>0.003906</td>\n",
       "      <td>0.003963</td>\n",
       "      <td>0.003824</td>\n",
       "      <td>0.000297</td>\n",
       "      <td>0.003942</td>\n",
       "      <td>0.003691</td>\n",
       "      <td>0.003858</td>\n",
       "      <td>0.000200</td>\n",
       "      <td>0.003963</td>\n",
       "      <td>0.003691</td>\n",
       "    </tr>\n",
       "    <tr>\n",
       "      <th>125</th>\n",
       "      <td>0.004832</td>\n",
       "      <td>0.002484</td>\n",
       "      <td>0.004762</td>\n",
       "      <td>0.004587</td>\n",
       "      <td>0.004833</td>\n",
       "      <td>0.000836</td>\n",
       "      <td>0.004984</td>\n",
       "      <td>0.004587</td>\n",
       "      <td>0.004833</td>\n",
       "      <td>0.001794</td>\n",
       "      <td>...</td>\n",
       "      <td>0.003942</td>\n",
       "      <td>0.003691</td>\n",
       "      <td>0.003858</td>\n",
       "      <td>0.000200</td>\n",
       "      <td>0.003963</td>\n",
       "      <td>0.003691</td>\n",
       "      <td>0.003872</td>\n",
       "      <td>0.000125</td>\n",
       "      <td>0.003998</td>\n",
       "      <td>0.003740</td>\n",
       "    </tr>\n",
       "    <tr>\n",
       "      <th>126</th>\n",
       "      <td>0.004833</td>\n",
       "      <td>0.000836</td>\n",
       "      <td>0.004984</td>\n",
       "      <td>0.004587</td>\n",
       "      <td>0.004833</td>\n",
       "      <td>0.001794</td>\n",
       "      <td>0.004984</td>\n",
       "      <td>0.004587</td>\n",
       "      <td>0.004832</td>\n",
       "      <td>0.000966</td>\n",
       "      <td>...</td>\n",
       "      <td>0.003963</td>\n",
       "      <td>0.003691</td>\n",
       "      <td>0.003872</td>\n",
       "      <td>0.000125</td>\n",
       "      <td>0.003998</td>\n",
       "      <td>0.003740</td>\n",
       "      <td>0.003858</td>\n",
       "      <td>0.000270</td>\n",
       "      <td>0.003998</td>\n",
       "      <td>0.003705</td>\n",
       "    </tr>\n",
       "    <tr>\n",
       "      <th>127</th>\n",
       "      <td>0.004833</td>\n",
       "      <td>0.001794</td>\n",
       "      <td>0.004984</td>\n",
       "      <td>0.004587</td>\n",
       "      <td>0.004832</td>\n",
       "      <td>0.000966</td>\n",
       "      <td>0.004852</td>\n",
       "      <td>0.004587</td>\n",
       "      <td>0.004624</td>\n",
       "      <td>0.002151</td>\n",
       "      <td>...</td>\n",
       "      <td>0.003998</td>\n",
       "      <td>0.003740</td>\n",
       "      <td>0.003858</td>\n",
       "      <td>0.000270</td>\n",
       "      <td>0.003998</td>\n",
       "      <td>0.003705</td>\n",
       "      <td>0.004290</td>\n",
       "      <td>0.003913</td>\n",
       "      <td>0.003998</td>\n",
       "      <td>0.004098</td>\n",
       "    </tr>\n",
       "    <tr>\n",
       "      <th>128</th>\n",
       "      <td>0.004832</td>\n",
       "      <td>0.000966</td>\n",
       "      <td>0.004852</td>\n",
       "      <td>0.004587</td>\n",
       "      <td>0.004624</td>\n",
       "      <td>0.002151</td>\n",
       "      <td>0.004720</td>\n",
       "      <td>0.004586</td>\n",
       "      <td>0.004729</td>\n",
       "      <td>0.003743</td>\n",
       "      <td>...</td>\n",
       "      <td>0.003998</td>\n",
       "      <td>0.003705</td>\n",
       "      <td>0.004290</td>\n",
       "      <td>0.003913</td>\n",
       "      <td>0.003998</td>\n",
       "      <td>0.004098</td>\n",
       "      <td>0.004409</td>\n",
       "      <td>0.005831</td>\n",
       "      <td>0.004140</td>\n",
       "      <td>0.004208</td>\n",
       "    </tr>\n",
       "    <tr>\n",
       "      <th>129</th>\n",
       "      <td>0.004624</td>\n",
       "      <td>0.002151</td>\n",
       "      <td>0.004720</td>\n",
       "      <td>0.004586</td>\n",
       "      <td>0.004729</td>\n",
       "      <td>0.003743</td>\n",
       "      <td>0.004774</td>\n",
       "      <td>0.004484</td>\n",
       "      <td>0.004795</td>\n",
       "      <td>0.000671</td>\n",
       "      <td>...</td>\n",
       "      <td>0.003998</td>\n",
       "      <td>0.004098</td>\n",
       "      <td>0.004409</td>\n",
       "      <td>0.005831</td>\n",
       "      <td>0.004140</td>\n",
       "      <td>0.004208</td>\n",
       "      <td>0.004346</td>\n",
       "      <td>0.001669</td>\n",
       "      <td>0.004440</td>\n",
       "      <td>0.004222</td>\n",
       "    </tr>\n",
       "  </tbody>\n",
       "</table>\n",
       "<p>10 rows × 520 columns</p>\n",
       "</div>"
      ],
      "text/plain": [
       "     var1(t-120)  var2(t-120)  var3(t-120)  var4(t-120)  var1(t-119)  \\\n",
       "120     0.003928     0.003895     0.003878     0.003777     0.004276   \n",
       "121     0.004276     0.007137     0.003985     0.004123     0.004701   \n",
       "122     0.004701     0.011923     0.004377     0.004457     0.004778   \n",
       "123     0.004778     0.001218     0.004852     0.004532     0.004832   \n",
       "124     0.004832     0.003535     0.004929     0.004587     0.004832   \n",
       "125     0.004832     0.002484     0.004762     0.004587     0.004833   \n",
       "126     0.004833     0.000836     0.004984     0.004587     0.004833   \n",
       "127     0.004833     0.001794     0.004984     0.004587     0.004832   \n",
       "128     0.004832     0.000966     0.004852     0.004587     0.004624   \n",
       "129     0.004624     0.002151     0.004720     0.004586     0.004729   \n",
       "\n",
       "     var2(t-119)  var3(t-119)  var4(t-119)  var1(t-118)  var2(t-118)  \\\n",
       "120     0.007137     0.003985     0.004123     0.004701     0.011923   \n",
       "121     0.011923     0.004377     0.004457     0.004778     0.001218   \n",
       "122     0.001218     0.004852     0.004532     0.004832     0.003535   \n",
       "123     0.003535     0.004929     0.004587     0.004832     0.002484   \n",
       "124     0.002484     0.004762     0.004587     0.004833     0.000836   \n",
       "125     0.000836     0.004984     0.004587     0.004833     0.001794   \n",
       "126     0.001794     0.004984     0.004587     0.004832     0.000966   \n",
       "127     0.000966     0.004852     0.004587     0.004624     0.002151   \n",
       "128     0.002151     0.004720     0.004586     0.004729     0.003743   \n",
       "129     0.003743     0.004774     0.004484     0.004795     0.000671   \n",
       "\n",
       "       ...      var3(t+7)  var4(t+7)  var1(t+8)  var2(t+8)  var3(t+8)  \\\n",
       "120    ...       0.003703   0.003739   0.003733   0.001932   0.003760   \n",
       "121    ...       0.003760   0.003511   0.004033   0.005065   0.003857   \n",
       "122    ...       0.003857   0.003796   0.004130   0.012079   0.004118   \n",
       "123    ...       0.004118   0.004100   0.003907   0.004797   0.003906   \n",
       "124    ...       0.003906   0.003963   0.003824   0.000297   0.003942   \n",
       "125    ...       0.003942   0.003691   0.003858   0.000200   0.003963   \n",
       "126    ...       0.003963   0.003691   0.003872   0.000125   0.003998   \n",
       "127    ...       0.003998   0.003740   0.003858   0.000270   0.003998   \n",
       "128    ...       0.003998   0.003705   0.004290   0.003913   0.003998   \n",
       "129    ...       0.003998   0.004098   0.004409   0.005831   0.004140   \n",
       "\n",
       "     var4(t+8)  var1(t+9)  var2(t+9)  var3(t+9)  var4(t+9)  \n",
       "120   0.003511   0.004033   0.005065   0.003857   0.003796  \n",
       "121   0.003796   0.004130   0.012079   0.004118   0.004100  \n",
       "122   0.004100   0.003907   0.004797   0.003906   0.003963  \n",
       "123   0.003963   0.003824   0.000297   0.003942   0.003691  \n",
       "124   0.003691   0.003858   0.000200   0.003963   0.003691  \n",
       "125   0.003691   0.003872   0.000125   0.003998   0.003740  \n",
       "126   0.003740   0.003858   0.000270   0.003998   0.003705  \n",
       "127   0.003705   0.004290   0.003913   0.003998   0.004098  \n",
       "128   0.004098   0.004409   0.005831   0.004140   0.004208  \n",
       "129   0.004208   0.004346   0.001669   0.004440   0.004222  \n",
       "\n",
       "[10 rows x 520 columns]"
      ]
     },
     "execution_count": 6,
     "metadata": {},
     "output_type": "execute_result"
    }
   ],
   "source": [
    "# frame as supervised learning\n",
    "reframed = series_to_supervised(scaled, n_lag, n_out)\n",
    "reframed.head(10)"
   ]
  },
  {
   "cell_type": "code",
   "execution_count": 7,
   "metadata": {},
   "outputs": [
    {
     "data": {
      "text/html": [
       "<div>\n",
       "<style scoped>\n",
       "    .dataframe tbody tr th:only-of-type {\n",
       "        vertical-align: middle;\n",
       "    }\n",
       "\n",
       "    .dataframe tbody tr th {\n",
       "        vertical-align: top;\n",
       "    }\n",
       "\n",
       "    .dataframe thead th {\n",
       "        text-align: right;\n",
       "    }\n",
       "</style>\n",
       "<table border=\"1\" class=\"dataframe\">\n",
       "  <thead>\n",
       "    <tr style=\"text-align: right;\">\n",
       "      <th></th>\n",
       "      <th>var1(t-120)</th>\n",
       "      <th>var2(t-120)</th>\n",
       "      <th>var3(t-120)</th>\n",
       "      <th>var4(t-120)</th>\n",
       "      <th>var1(t-119)</th>\n",
       "      <th>var2(t-119)</th>\n",
       "      <th>var3(t-119)</th>\n",
       "      <th>var4(t-119)</th>\n",
       "      <th>var1(t-118)</th>\n",
       "      <th>var2(t-118)</th>\n",
       "      <th>...</th>\n",
       "      <th>var1(t)</th>\n",
       "      <th>var1(t+1)</th>\n",
       "      <th>var1(t+2)</th>\n",
       "      <th>var1(t+3)</th>\n",
       "      <th>var1(t+4)</th>\n",
       "      <th>var1(t+5)</th>\n",
       "      <th>var1(t+6)</th>\n",
       "      <th>var1(t+7)</th>\n",
       "      <th>var1(t+8)</th>\n",
       "      <th>var1(t+9)</th>\n",
       "    </tr>\n",
       "  </thead>\n",
       "  <tbody>\n",
       "    <tr>\n",
       "      <th>120</th>\n",
       "      <td>0.003928</td>\n",
       "      <td>0.003895</td>\n",
       "      <td>0.003878</td>\n",
       "      <td>0.003777</td>\n",
       "      <td>0.004276</td>\n",
       "      <td>0.007137</td>\n",
       "      <td>0.003985</td>\n",
       "      <td>0.004123</td>\n",
       "      <td>0.004701</td>\n",
       "      <td>0.011923</td>\n",
       "      <td>...</td>\n",
       "      <td>0.004715</td>\n",
       "      <td>0.004029</td>\n",
       "      <td>0.003586</td>\n",
       "      <td>0.003866</td>\n",
       "      <td>0.004033</td>\n",
       "      <td>0.003684</td>\n",
       "      <td>0.003831</td>\n",
       "      <td>0.003636</td>\n",
       "      <td>0.003733</td>\n",
       "      <td>0.004033</td>\n",
       "    </tr>\n",
       "    <tr>\n",
       "      <th>121</th>\n",
       "      <td>0.004276</td>\n",
       "      <td>0.007137</td>\n",
       "      <td>0.003985</td>\n",
       "      <td>0.004123</td>\n",
       "      <td>0.004701</td>\n",
       "      <td>0.011923</td>\n",
       "      <td>0.004377</td>\n",
       "      <td>0.004457</td>\n",
       "      <td>0.004778</td>\n",
       "      <td>0.001218</td>\n",
       "      <td>...</td>\n",
       "      <td>0.004029</td>\n",
       "      <td>0.003586</td>\n",
       "      <td>0.003866</td>\n",
       "      <td>0.004033</td>\n",
       "      <td>0.003684</td>\n",
       "      <td>0.003831</td>\n",
       "      <td>0.003636</td>\n",
       "      <td>0.003733</td>\n",
       "      <td>0.004033</td>\n",
       "      <td>0.004130</td>\n",
       "    </tr>\n",
       "    <tr>\n",
       "      <th>122</th>\n",
       "      <td>0.004701</td>\n",
       "      <td>0.011923</td>\n",
       "      <td>0.004377</td>\n",
       "      <td>0.004457</td>\n",
       "      <td>0.004778</td>\n",
       "      <td>0.001218</td>\n",
       "      <td>0.004852</td>\n",
       "      <td>0.004532</td>\n",
       "      <td>0.004832</td>\n",
       "      <td>0.003535</td>\n",
       "      <td>...</td>\n",
       "      <td>0.003586</td>\n",
       "      <td>0.003866</td>\n",
       "      <td>0.004033</td>\n",
       "      <td>0.003684</td>\n",
       "      <td>0.003831</td>\n",
       "      <td>0.003636</td>\n",
       "      <td>0.003733</td>\n",
       "      <td>0.004033</td>\n",
       "      <td>0.004130</td>\n",
       "      <td>0.003907</td>\n",
       "    </tr>\n",
       "    <tr>\n",
       "      <th>123</th>\n",
       "      <td>0.004778</td>\n",
       "      <td>0.001218</td>\n",
       "      <td>0.004852</td>\n",
       "      <td>0.004532</td>\n",
       "      <td>0.004832</td>\n",
       "      <td>0.003535</td>\n",
       "      <td>0.004929</td>\n",
       "      <td>0.004587</td>\n",
       "      <td>0.004832</td>\n",
       "      <td>0.002484</td>\n",
       "      <td>...</td>\n",
       "      <td>0.003866</td>\n",
       "      <td>0.004033</td>\n",
       "      <td>0.003684</td>\n",
       "      <td>0.003831</td>\n",
       "      <td>0.003636</td>\n",
       "      <td>0.003733</td>\n",
       "      <td>0.004033</td>\n",
       "      <td>0.004130</td>\n",
       "      <td>0.003907</td>\n",
       "      <td>0.003824</td>\n",
       "    </tr>\n",
       "    <tr>\n",
       "      <th>124</th>\n",
       "      <td>0.004832</td>\n",
       "      <td>0.003535</td>\n",
       "      <td>0.004929</td>\n",
       "      <td>0.004587</td>\n",
       "      <td>0.004832</td>\n",
       "      <td>0.002484</td>\n",
       "      <td>0.004762</td>\n",
       "      <td>0.004587</td>\n",
       "      <td>0.004833</td>\n",
       "      <td>0.000836</td>\n",
       "      <td>...</td>\n",
       "      <td>0.004033</td>\n",
       "      <td>0.003684</td>\n",
       "      <td>0.003831</td>\n",
       "      <td>0.003636</td>\n",
       "      <td>0.003733</td>\n",
       "      <td>0.004033</td>\n",
       "      <td>0.004130</td>\n",
       "      <td>0.003907</td>\n",
       "      <td>0.003824</td>\n",
       "      <td>0.003858</td>\n",
       "    </tr>\n",
       "  </tbody>\n",
       "</table>\n",
       "<p>5 rows × 490 columns</p>\n",
       "</div>"
      ],
      "text/plain": [
       "     var1(t-120)  var2(t-120)  var3(t-120)  var4(t-120)  var1(t-119)  \\\n",
       "120     0.003928     0.003895     0.003878     0.003777     0.004276   \n",
       "121     0.004276     0.007137     0.003985     0.004123     0.004701   \n",
       "122     0.004701     0.011923     0.004377     0.004457     0.004778   \n",
       "123     0.004778     0.001218     0.004852     0.004532     0.004832   \n",
       "124     0.004832     0.003535     0.004929     0.004587     0.004832   \n",
       "\n",
       "     var2(t-119)  var3(t-119)  var4(t-119)  var1(t-118)  var2(t-118)  \\\n",
       "120     0.007137     0.003985     0.004123     0.004701     0.011923   \n",
       "121     0.011923     0.004377     0.004457     0.004778     0.001218   \n",
       "122     0.001218     0.004852     0.004532     0.004832     0.003535   \n",
       "123     0.003535     0.004929     0.004587     0.004832     0.002484   \n",
       "124     0.002484     0.004762     0.004587     0.004833     0.000836   \n",
       "\n",
       "       ...       var1(t)  var1(t+1)  var1(t+2)  var1(t+3)  var1(t+4)  \\\n",
       "120    ...      0.004715   0.004029   0.003586   0.003866   0.004033   \n",
       "121    ...      0.004029   0.003586   0.003866   0.004033   0.003684   \n",
       "122    ...      0.003586   0.003866   0.004033   0.003684   0.003831   \n",
       "123    ...      0.003866   0.004033   0.003684   0.003831   0.003636   \n",
       "124    ...      0.004033   0.003684   0.003831   0.003636   0.003733   \n",
       "\n",
       "     var1(t+5)  var1(t+6)  var1(t+7)  var1(t+8)  var1(t+9)  \n",
       "120   0.003684   0.003831   0.003636   0.003733   0.004033  \n",
       "121   0.003831   0.003636   0.003733   0.004033   0.004130  \n",
       "122   0.003636   0.003733   0.004033   0.004130   0.003907  \n",
       "123   0.003733   0.004033   0.004130   0.003907   0.003824  \n",
       "124   0.004033   0.004130   0.003907   0.003824   0.003858  \n",
       "\n",
       "[5 rows x 490 columns]"
      ]
     },
     "execution_count": 7,
     "metadata": {},
     "output_type": "execute_result"
    }
   ],
   "source": [
    "# drop columns we don't want to predict\n",
    "# We're only concerned with the estimating the close value,\n",
    "# Close should be first in the list of column in the config file\n",
    "\n",
    "cols_to_drop = []\n",
    "\n",
    "for i in range (n_out):\n",
    "    for j in range(1, n_features):\n",
    "        cols_to_drop.append(reframed.shape[1]-(i*n_features+j))\n",
    "\n",
    "reframed.drop(reframed.columns[cols_to_drop], axis=1, inplace=True)\n",
    "\n",
    "reframed.head()"
   ]
  },
  {
   "cell_type": "code",
   "execution_count": 8,
   "metadata": {},
   "outputs": [],
   "source": [
    "reframed_values = reframed.values\n",
    "# split into train and test sets\n",
    "training_size = int(0.8* reframed_values.shape[0])\n",
    "train = reframed_values[:training_size, :]\n",
    "test = reframed_values[training_size:, :]"
   ]
  },
  {
   "cell_type": "code",
   "execution_count": 9,
   "metadata": {},
   "outputs": [
    {
     "name": "stdout",
     "output_type": "stream",
     "text": [
      "(121252, 120, 4) (121252, 10, 1) (30313, 120, 4) (30313, 10, 1)\n"
     ]
    }
   ],
   "source": [
    "# split into input and outputs\n",
    "n_obs = n_lag * n_features\n",
    "\n",
    "# We're only concerned with the estimating the close value,\n",
    "# Close should be first in the list of column in the config file\n",
    "\n",
    "n_outputs = n_out * n_features\n",
    "train_x, train_y = train[:, :n_obs], train[:, -n_out:]\n",
    "test_x, test_y = test[:, :n_obs], test[:, -n_out:]\n",
    "\n",
    "# reshape input to be 3D [samples, timesteps, features]\n",
    "train_x = train_x.reshape((train_x.shape[0], n_lag, n_features))\n",
    "test_x = test_x.reshape((test_x.shape[0], n_lag, n_features))\n",
    "\n",
    "# reshape output to be 3D [samples, timesteps, features]\n",
    "train_y = train_y.reshape(-1, n_out, 1)\n",
    "test_y = test_y.reshape(-1, n_out, 1)\n",
    "\n",
    "print(train_x.shape, train_y.shape, test_x.shape, test_y.shape)"
   ]
  },
  {
   "cell_type": "code",
   "execution_count": 10,
   "metadata": {},
   "outputs": [],
   "source": [
    "model_name=''.join([CONFIG['folder']['weights'], CONFIG['filename'], '_model', '.json'])\n",
    "model_weights_name=''.join([CONFIG['folder']['weights'], CONFIG['filename'], '_model_weights', '.h5'])"
   ]
  },
  {
   "cell_type": "code",
   "execution_count": 11,
   "metadata": {},
   "outputs": [
    {
     "name": "stderr",
     "output_type": "stream",
     "text": [
      "Using TensorFlow backend.\n"
     ]
    },
    {
     "name": "stdout",
     "output_type": "stream",
     "text": [
      "_________________________________________________________________\n",
      "Layer (type)                 Output Shape              Param #   \n",
      "=================================================================\n",
      "bidirectional_1 (Bidirection (None, 400)               328000    \n",
      "_________________________________________________________________\n",
      "dropout_1 (Dropout)          (None, 400)               0         \n",
      "_________________________________________________________________\n",
      "repeat_vector_1 (RepeatVecto (None, 10, 400)           0         \n",
      "_________________________________________________________________\n",
      "lstm_2 (LSTM)                (None, 10, 100)           200400    \n",
      "_________________________________________________________________\n",
      "dropout_2 (Dropout)          (None, 10, 100)           0         \n",
      "_________________________________________________________________\n",
      "time_distributed_1 (TimeDist (None, 10, 1)             101       \n",
      "=================================================================\n",
      "Total params: 528,501\n",
      "Trainable params: 528,501\n",
      "Non-trainable params: 0\n",
      "_________________________________________________________________\n"
     ]
    }
   ],
   "source": [
    "from keras.models import Sequential\n",
    "from keras.layers import Dense\n",
    "from keras.layers import Input\n",
    "from keras.layers import LSTM, CuDNNLSTM, GRU,CuDNNGRU\n",
    "from keras.layers import Conv1D, AveragePooling1D, MaxPooling1D\n",
    "from keras.layers import Dropout, Flatten\n",
    "from keras.layers import Activation, BatchNormalization\n",
    "from keras.layers import TimeDistributed\n",
    "from keras.layers import Bidirectional\n",
    "from keras.layers import RepeatVector\n",
    "from keras.callbacks import ModelCheckpoint\n",
    "\n",
    "units= CONFIG['lstm_hidden_size']\n",
    "dropout = .8\n",
    "\n",
    "# design network\n",
    "model = Sequential()\n",
    "model.add(Bidirectional(LSTM(units), input_shape=(train_x.shape[1], train_x.shape[2])))\n",
    "model.add(Dropout(dropout))\n",
    "\n",
    "model.add(RepeatVector(n_out))\n",
    "\n",
    "model.add(LSTM(int(units/2), return_sequences=True))\n",
    "model.add(Dropout(dropout))\n",
    "\n",
    "# We're only concerned with the estimating the close value,\n",
    "# otherwise use n_outputs instead of 1\n",
    "# Dense(n_outputs, ...\n",
    "model.add(TimeDistributed(Dense(1, activation='relu')))\n",
    "\n",
    "model.compile(loss='mse', optimizer='adam')\n",
    "\n",
    "# store model\n",
    "# serialize model to JSON\n",
    "model_json = model.to_json()\n",
    "with open(model_name, \"w\") as json_file:\n",
    "    json_file.write(model_json)\n",
    "\n",
    "model.summary()"
   ]
  },
  {
   "cell_type": "code",
   "execution_count": 12,
   "metadata": {},
   "outputs": [],
   "source": [
    "epochs=2\n",
    "batch_size=64"
   ]
  },
  {
   "cell_type": "code",
   "execution_count": 13,
   "metadata": {},
   "outputs": [
    {
     "name": "stdout",
     "output_type": "stream",
     "text": [
      "Train on 121252 samples, validate on 30313 samples\n",
      "Epoch 1/2\n",
      "121252/121252 [==============================] - 640s 5ms/step - loss: 0.0020 - val_loss: 0.0174\n",
      "\n",
      "Epoch 00001: val_loss improved from inf to 0.01736, saving model to weights/BTC_ETH_lstm_i120_o10_Close_Volume_Low_High_model_weights.h5\n",
      "Epoch 2/2\n",
      "121252/121252 [==============================] - 643s 5ms/step - loss: 0.0072 - val_loss: 0.0175\n",
      "\n",
      "Epoch 00002: val_loss did not improve from 0.01736\n"
     ]
    }
   ],
   "source": [
    "# fit network\n",
    "history = model.fit(train_x, train_y, epochs=epochs, batch_size=batch_size,\n",
    "                    validation_data=(test_x, test_y), verbose=1, shuffle=False,\n",
    "                    callbacks=[ModelCheckpoint(model_weights_name, monitor='val_loss', verbose=1,save_best_only='true',\n",
    "                                              save_weights_only=True)])"
   ]
  },
  {
   "cell_type": "code",
   "execution_count": 14,
   "metadata": {},
   "outputs": [
    {
     "name": "stdout",
     "output_type": "stream",
     "text": [
      "30313/30313 [==============================] - 91s 3ms/step\n"
     ]
    },
    {
     "data": {
      "text/plain": [
       "0.017359742047812973"
      ]
     },
     "execution_count": 14,
     "metadata": {},
     "output_type": "execute_result"
    }
   ],
   "source": [
    "# Load the best weights\n",
    "model.load_weights(model_weights_name)\n",
    "model.compile(loss='mse', optimizer='adam')\n",
    "model.evaluate(test_x, test_y)"
   ]
  },
  {
   "cell_type": "code",
   "execution_count": 15,
   "metadata": {},
   "outputs": [],
   "source": [
    "from matplotlib import pyplot"
   ]
  },
  {
   "cell_type": "code",
   "execution_count": 16,
   "metadata": {},
   "outputs": [
    {
     "data": {
      "image/png": "[encoded data removed]",
      "text/plain": [
       "<Figure size 432x288 with 1 Axes>"
      ]
     },
     "metadata": {},
     "output_type": "display_data"
    }
   ],
   "source": [
    "# plot history\n",
    "pyplot.plot(history.history['loss'], label='train')\n",
    "pyplot.plot(history.history['val_loss'], label='test')\n",
    "pyplot.legend()\n",
    "pyplot.show()"
   ]
  },
  {
   "cell_type": "code",
   "execution_count": 17,
   "metadata": {},
   "outputs": [],
   "source": [
    "# Test the prediction of test data\n",
    "y = model.predict(test_x)"
   ]
  },
  {
   "cell_type": "code",
   "execution_count": 18,
   "metadata": {},
   "outputs": [
    {
     "data": {
      "image/png": "[encoded data removed]",
      "text/plain": [
       "<Figure size 432x288 with 1 Axes>"
      ]
     },
     "metadata": {},
     "output_type": "display_data"
    },
    {
     "data": {
      "image/png": "[encoded data removed]",
      "text/plain": [
       "<Figure size 432x288 with 1 Axes>"
      ]
     },
     "metadata": {},
     "output_type": "display_data"
    }
   ],
   "source": [
    "a = test_y[:,0]\n",
    "b = y[:,0]\n",
    "c = np.append(b, y[-1], axis=0)\n",
    "\n",
    "# Show how the model fits the test data\n",
    "pyplot.plot(a[:100], label='original')\n",
    "pyplot.plot(b[:100], label='model')\n",
    "pyplot.legend()\n",
    "pyplot.show()\n",
    "\n",
    "# Show how the model predicts data\n",
    "pos = int(a.shape[0]-n_out*4)\n",
    "pyplot.plot(a[pos:], label='original')\n",
    "pyplot.plot(c[pos:], label='model')\n",
    "pyplot.legend()\n",
    "pyplot.show()\n"
   ]
  },
  {
   "cell_type": "code",
   "execution_count": 19,
   "metadata": {},
   "outputs": [],
   "source": [
    "#Prediction on public data!\n",
    "period = CONFIG['period']\n",
    "import time\n",
    "from urllib.request import urlopen\n",
    "import json\n",
    "\n",
    "# Download a live bitcoin price data set\n",
    "def dl_X(now = None, points = n_lag, period = period, pair=CONFIG['pair']):\n",
    "    if now == None:\n",
    "        now = time.time() \n",
    "    end = now - now % period\n",
    "    #print end, time.strftime(\"%a, %d %b %Y %H:%M:%S +0000\", time.gmtime(end))\n",
    "    start = end - points*period\n",
    "    #print start, time.strftime(\"%a, %d %b %Y %H:%M:%S +0000\", time.gmtime(start))\n",
    "    url = \"https://poloniex.com/public?command=returnChartData&currencyPair=%s&start=%d&end=%d&period=%d\" % (pair, start, end, period)\n",
    "    openUrl = urlopen(url)\n",
    "    r = openUrl.read()\n",
    "    openUrl.close()\n",
    "    d = json.loads(r.decode())[-n_lag:]\n",
    "    df = pd.DataFrame(d)\n",
    "    original_columns=[u'close', u'date', u'high', u'low', u'open',u'volume']\n",
    "    new_columns = ['Close','Timestamp','High','Low','Open','Volume']\n",
    "    df = df.loc[:,original_columns]\n",
    "    df.columns = new_columns\n",
    "    \n",
    "    return df"
   ]
  },
  {
   "cell_type": "code",
   "execution_count": 20,
   "metadata": {},
   "outputs": [],
   "source": [
    "def predict(when=None):\n",
    "    rt_df = dl_X(when)\n",
    "    rt_values = rt_df.loc[:,columns].values\n",
    "    rt_scaled = scaler.transform(rt_values)\n",
    "    rt_x = rt_scaled.reshape((1, n_lag, n_features))\n",
    "    print (rt_x.shape)\n",
    "    return rt_scaled, model.predict(rt_x)"
   ]
  },
  {
   "cell_type": "code",
   "execution_count": 21,
   "metadata": {},
   "outputs": [
    {
     "name": "stdout",
     "output_type": "stream",
     "text": [
      "(1, 120, 4)\n"
     ]
    },
    {
     "data": {
      "image/png": "[encoded data removed]",
      "text/plain": [
       "<Figure size 432x288 with 1 Axes>"
      ]
     },
     "metadata": {},
     "output_type": "display_data"
    },
    {
     "name": "stdout",
     "output_type": "stream",
     "text": [
      "(1, 120, 4)\n"
     ]
    },
    {
     "data": {
      "image/png": "[encoded data removed]",
      "text/plain": [
       "<Figure size 432x288 with 1 Axes>"
      ]
     },
     "metadata": {},
     "output_type": "display_data"
    },
    {
     "name": "stdout",
     "output_type": "stream",
     "text": [
      "(1, 120, 4)\n"
     ]
    },
    {
     "data": {
      "image/png": "[encoded data removed]",
      "text/plain": [
       "<Figure size 432x288 with 1 Axes>"
      ]
     },
     "metadata": {},
     "output_type": "display_data"
    },
    {
     "name": "stdout",
     "output_type": "stream",
     "text": [
      "(1, 120, 4)\n"
     ]
    },
    {
     "data": {
      "image/png": "[encoded data removed]",
      "text/plain": [
       "<Figure size 432x288 with 1 Axes>"
      ]
     },
     "metadata": {},
     "output_type": "display_data"
    },
    {
     "name": "stdout",
     "output_type": "stream",
     "text": [
      "(1, 120, 4)\n"
     ]
    },
    {
     "data": {
      "image/png": "[encoded data removed]",
      "text/plain": [
       "<Figure size 432x288 with 1 Axes>"
      ]
     },
     "metadata": {},
     "output_type": "display_data"
    },
    {
     "name": "stdout",
     "output_type": "stream",
     "text": [
      "(1, 120, 4)\n"
     ]
    },
    {
     "data": {
      "image/png": "[encoded data removed]",
      "text/plain": [
       "<Figure size 432x288 with 1 Axes>"
      ]
     },
     "metadata": {},
     "output_type": "display_data"
    },
    {
     "name": "stdout",
     "output_type": "stream",
     "text": [
      "(1, 120, 4)\n"
     ]
    },
    {
     "data": {
      "image/png": "[encoded data removed]",
      "text/plain": [
       "<Figure size 432x288 with 1 Axes>"
      ]
     },
     "metadata": {},
     "output_type": "display_data"
    }
   ],
   "source": [
    "# do some now & past predictions\n",
    "for t in [0, 100, 200, 300, 500, 1000, 2000]:\n",
    "    rt_x, prediction = predict(time.time()-t*period)\n",
    "\n",
    "    current = rt_x[:,0]\n",
    "    prediction = prediction[0]\n",
    "\n",
    "    pyplot.plot(current, label='current')\n",
    "\n",
    "    # shift train predictions for plotting\n",
    "    predictPlot = np.empty_like(current)\n",
    "    predictPlot[:] = np.nan\n",
    "    predictPlot = np.append(predictPlot, prediction)\n",
    "\n",
    "    pyplot.plot(predictPlot, label='prediction')\n",
    "    pyplot.legend()\n",
    "    pyplot.show()"
   ]
  },
  {
   "cell_type": "code",
   "execution_count": null,
   "metadata": {},
   "outputs": [
    {
     "name": "stdout",
     "output_type": "stream",
     "text": [
      "Sat, 30 Jun 2018 10:15:00 +0000\n",
      "(1, 120, 4)\n"
     ]
    },
    {
     "data": {
      "image/png": "[encoded data removed]",
      "text/plain": [
       "<Figure size 432x288 with 1 Axes>"
      ]
     },
     "metadata": {},
     "output_type": "display_data"
    }
   ],
   "source": [
    "#Prediction on live data!\n",
    "starttime=time.time()\n",
    "while True:\n",
    "    now = time.time() \n",
    "    end = now - now % period\n",
    "    print (time.strftime(\"%a, %d %b %Y %H:%M:%S +0000\", time.gmtime(end)))\n",
    "    rt_x, prediction = predict()\n",
    "\n",
    "    current = rt_x[:,0]\n",
    "    prediction = prediction[0]\n",
    "\n",
    "    pyplot.plot(current, label='current')\n",
    "\n",
    "    # shift train predictions for plotting\n",
    "    predictPlot = np.empty_like(current)\n",
    "    predictPlot[:] = np.nan\n",
    "    predictPlot = np.append(predictPlot, prediction)\n",
    "\n",
    "    pyplot.plot(predictPlot, label='prediction')\n",
    "    pyplot.legend()\n",
    "    pyplot.show()\n",
    "\n",
    "    time.sleep(period - ((time.time() - starttime) % period))"
   ]
  },
  {
   "cell_type": "code",
   "execution_count": null,
   "metadata": {},
   "outputs": [],
   "source": []
  }
 ],
 "metadata": {
  "kernelspec": {
   "display_name": "Python 3",
   "language": "python",
   "name": "python3"
  },
  "language_info": {
   "codemirror_mode": {
    "name": "ipython",
    "version": 3
   },
   "file_extension": ".py",
   "mimetype": "text/x-python",
   "name": "python",
   "nbconvert_exporter": "python",
   "pygments_lexer": "ipython3",
   "version": "3.6.6"
  }
 },
 "nbformat": 4,
 "nbformat_minor": 2
}
